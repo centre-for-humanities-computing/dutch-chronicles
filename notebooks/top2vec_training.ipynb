{
 "cells": [
  {
   "source": [
    "## Train a top2vec model\n",
    "\n",
    "### Part I: default model (total nr of topics are used)\n",
    "### Part II: hierarchically reduced model (100 topics)"
   ],
   "cell_type": "markdown",
   "metadata": {}
  },
  {
   "cell_type": "code",
   "execution_count": 1,
   "metadata": {},
   "outputs": [],
   "source": [
    "import ndjson\n",
    "import glob\n",
    "import numpy as np\n",
    "import pandas as pd\n",
    "import top2vec\n",
    "from top2vec import Top2Vec "
   ]
  },
  {
   "source": [
    "### Load primitives and filter events longer than 50 characters"
   ],
   "cell_type": "markdown",
   "metadata": {}
  },
  {
   "cell_type": "code",
   "execution_count": 2,
   "metadata": {},
   "outputs": [],
   "source": [
    "with open('/work/62138/corpus/primitives_220329/primitives_annotated.ndjson') as f:\n",
    "    data = ndjson.load(f)"
   ]
  },
  {
   "cell_type": "code",
   "execution_count": 3,
   "metadata": {},
   "outputs": [],
   "source": [
    "# filter events longer than 50 characters\n",
    "data_filtered = []\n",
    "for item in data:\n",
    "    if len(item['text']) > 50:\n",
    "        data_filtered.append(item)\n",
    "\n",
    "# prepare data for top2vec, create two lists of texts and document_ids\n",
    "corpus = []\n",
    "document_ids = []\n",
    "\n",
    "for key in data_filtered:\n",
    "    text = key['text']\n",
    "    id = key['id']\n",
    "    document_ids.append(id)\n",
    "    corpus.append(text)"
   ]
  },
  {
   "source": [
    "## Part I: default model\n",
    "\n",
    "### Train, save and load a top2vec model"
   ],
   "cell_type": "markdown",
   "metadata": {}
  },
  {
   "cell_type": "code",
   "execution_count": 4,
   "metadata": {},
   "outputs": [
    {
     "output_type": "stream",
     "name": "stderr",
     "text": "2022-04-06 11:00:25,508 - top2vec - INFO - Pre-processing documents for training\n"
    },
    {
     "output_type": "error",
     "ename": "KeyboardInterrupt",
     "evalue": "",
     "traceback": [
      "\u001b[0;31m---------------------------------------------------------------------------\u001b[0m",
      "\u001b[0;31mKeyboardInterrupt\u001b[0m                         Traceback (most recent call last)",
      "\u001b[0;32m<ipython-input-4-42a143ae987d>\u001b[0m in \u001b[0;36m<module>\u001b[0;34m\u001b[0m\n\u001b[1;32m      1\u001b[0m \u001b[0;31m# train model\u001b[0m\u001b[0;34m\u001b[0m\u001b[0;34m\u001b[0m\u001b[0;34m\u001b[0m\u001b[0m\n\u001b[0;32m----> 2\u001b[0;31m \u001b[0mmodel\u001b[0m \u001b[0;34m=\u001b[0m \u001b[0mTop2Vec\u001b[0m\u001b[0;34m(\u001b[0m\u001b[0mcorpus\u001b[0m\u001b[0;34m,\u001b[0m \u001b[0mdocument_ids\u001b[0m \u001b[0;34m=\u001b[0m \u001b[0mdocument_ids\u001b[0m\u001b[0;34m)\u001b[0m\u001b[0;34m\u001b[0m\u001b[0;34m\u001b[0m\u001b[0m\n\u001b[0m",
      "\u001b[0;32m~/.local/lib/python3.7/site-packages/top2vec/Top2Vec.py\u001b[0m in \u001b[0;36m__init__\u001b[0;34m(self, documents, min_count, ngram_vocab, ngram_vocab_args, embedding_model, embedding_model_path, embedding_batch_size, split_documents, document_chunker, chunk_length, max_num_chunks, chunk_overlap_ratio, chunk_len_coverage_ratio, sentencizer, speed, use_corpus_file, document_ids, keep_documents, workers, tokenizer, use_embedding_model_tokenizer, umap_args, hdbscan_args, verbose)\u001b[0m\n\u001b[1;32m    519\u001b[0m \u001b[0;34m\u001b[0m\u001b[0m\n\u001b[1;32m    520\u001b[0m             \u001b[0;32melse\u001b[0m\u001b[0;34m:\u001b[0m\u001b[0;34m\u001b[0m\u001b[0;34m\u001b[0m\u001b[0m\n\u001b[0;32m--> 521\u001b[0;31m                 \u001b[0mtrain_corpus\u001b[0m \u001b[0;34m=\u001b[0m \u001b[0;34m[\u001b[0m\u001b[0mTaggedDocument\u001b[0m\u001b[0;34m(\u001b[0m\u001b[0mtokenizer\u001b[0m\u001b[0;34m(\u001b[0m\u001b[0mdoc\u001b[0m\u001b[0;34m)\u001b[0m\u001b[0;34m,\u001b[0m \u001b[0;34m[\u001b[0m\u001b[0mi\u001b[0m\u001b[0;34m]\u001b[0m\u001b[0;34m)\u001b[0m \u001b[0;32mfor\u001b[0m \u001b[0mi\u001b[0m\u001b[0;34m,\u001b[0m \u001b[0mdoc\u001b[0m \u001b[0;32min\u001b[0m \u001b[0menumerate\u001b[0m\u001b[0;34m(\u001b[0m\u001b[0mdocuments\u001b[0m\u001b[0;34m)\u001b[0m\u001b[0;34m]\u001b[0m\u001b[0;34m\u001b[0m\u001b[0;34m\u001b[0m\u001b[0m\n\u001b[0m\u001b[1;32m    522\u001b[0m                 \u001b[0mdoc2vec_args\u001b[0m\u001b[0;34m[\u001b[0m\u001b[0;34m\"documents\"\u001b[0m\u001b[0;34m]\u001b[0m \u001b[0;34m=\u001b[0m \u001b[0mtrain_corpus\u001b[0m\u001b[0;34m\u001b[0m\u001b[0;34m\u001b[0m\u001b[0m\n\u001b[1;32m    523\u001b[0m \u001b[0;34m\u001b[0m\u001b[0m\n",
      "\u001b[0;32m~/.local/lib/python3.7/site-packages/top2vec/Top2Vec.py\u001b[0m in \u001b[0;36m<listcomp>\u001b[0;34m(.0)\u001b[0m\n\u001b[1;32m    519\u001b[0m \u001b[0;34m\u001b[0m\u001b[0m\n\u001b[1;32m    520\u001b[0m             \u001b[0;32melse\u001b[0m\u001b[0;34m:\u001b[0m\u001b[0;34m\u001b[0m\u001b[0;34m\u001b[0m\u001b[0m\n\u001b[0;32m--> 521\u001b[0;31m                 \u001b[0mtrain_corpus\u001b[0m \u001b[0;34m=\u001b[0m \u001b[0;34m[\u001b[0m\u001b[0mTaggedDocument\u001b[0m\u001b[0;34m(\u001b[0m\u001b[0mtokenizer\u001b[0m\u001b[0;34m(\u001b[0m\u001b[0mdoc\u001b[0m\u001b[0;34m)\u001b[0m\u001b[0;34m,\u001b[0m \u001b[0;34m[\u001b[0m\u001b[0mi\u001b[0m\u001b[0;34m]\u001b[0m\u001b[0;34m)\u001b[0m \u001b[0;32mfor\u001b[0m \u001b[0mi\u001b[0m\u001b[0;34m,\u001b[0m \u001b[0mdoc\u001b[0m \u001b[0;32min\u001b[0m \u001b[0menumerate\u001b[0m\u001b[0;34m(\u001b[0m\u001b[0mdocuments\u001b[0m\u001b[0;34m)\u001b[0m\u001b[0;34m]\u001b[0m\u001b[0;34m\u001b[0m\u001b[0;34m\u001b[0m\u001b[0m\n\u001b[0m\u001b[1;32m    522\u001b[0m                 \u001b[0mdoc2vec_args\u001b[0m\u001b[0;34m[\u001b[0m\u001b[0;34m\"documents\"\u001b[0m\u001b[0;34m]\u001b[0m \u001b[0;34m=\u001b[0m \u001b[0mtrain_corpus\u001b[0m\u001b[0;34m\u001b[0m\u001b[0;34m\u001b[0m\u001b[0m\n\u001b[1;32m    523\u001b[0m \u001b[0;34m\u001b[0m\u001b[0m\n",
      "\u001b[0;32m~/.local/lib/python3.7/site-packages/top2vec/Top2Vec.py\u001b[0m in \u001b[0;36mdefault_tokenizer\u001b[0;34m(document)\u001b[0m\n\u001b[1;32m     83\u001b[0m \u001b[0;34m\u001b[0m\u001b[0m\n\u001b[1;32m     84\u001b[0m     \"\"\"\n\u001b[0;32m---> 85\u001b[0;31m     \u001b[0;32mreturn\u001b[0m \u001b[0msimple_preprocess\u001b[0m\u001b[0;34m(\u001b[0m\u001b[0mstrip_tags\u001b[0m\u001b[0;34m(\u001b[0m\u001b[0mdocument\u001b[0m\u001b[0;34m)\u001b[0m\u001b[0;34m,\u001b[0m \u001b[0mdeacc\u001b[0m\u001b[0;34m=\u001b[0m\u001b[0;32mTrue\u001b[0m\u001b[0;34m)\u001b[0m\u001b[0;34m\u001b[0m\u001b[0;34m\u001b[0m\u001b[0m\n\u001b[0m\u001b[1;32m     86\u001b[0m \u001b[0;34m\u001b[0m\u001b[0m\n\u001b[1;32m     87\u001b[0m \u001b[0;34m\u001b[0m\u001b[0m\n",
      "\u001b[0;32m~/.local/lib/python3.7/site-packages/gensim/utils.py\u001b[0m in \u001b[0;36msimple_preprocess\u001b[0;34m(doc, deacc, min_len, max_len)\u001b[0m\n\u001b[1;32m    308\u001b[0m     \"\"\"\n\u001b[1;32m    309\u001b[0m     tokens = [\n\u001b[0;32m--> 310\u001b[0;31m         \u001b[0mtoken\u001b[0m \u001b[0;32mfor\u001b[0m \u001b[0mtoken\u001b[0m \u001b[0;32min\u001b[0m \u001b[0mtokenize\u001b[0m\u001b[0;34m(\u001b[0m\u001b[0mdoc\u001b[0m\u001b[0;34m,\u001b[0m \u001b[0mlower\u001b[0m\u001b[0;34m=\u001b[0m\u001b[0;32mTrue\u001b[0m\u001b[0;34m,\u001b[0m \u001b[0mdeacc\u001b[0m\u001b[0;34m=\u001b[0m\u001b[0mdeacc\u001b[0m\u001b[0;34m,\u001b[0m \u001b[0merrors\u001b[0m\u001b[0;34m=\u001b[0m\u001b[0;34m'ignore'\u001b[0m\u001b[0;34m)\u001b[0m\u001b[0;34m\u001b[0m\u001b[0;34m\u001b[0m\u001b[0m\n\u001b[0m\u001b[1;32m    311\u001b[0m         \u001b[0;32mif\u001b[0m \u001b[0mmin_len\u001b[0m \u001b[0;34m<=\u001b[0m \u001b[0mlen\u001b[0m\u001b[0;34m(\u001b[0m\u001b[0mtoken\u001b[0m\u001b[0;34m)\u001b[0m \u001b[0;34m<=\u001b[0m \u001b[0mmax_len\u001b[0m \u001b[0;32mand\u001b[0m \u001b[0;32mnot\u001b[0m \u001b[0mtoken\u001b[0m\u001b[0;34m.\u001b[0m\u001b[0mstartswith\u001b[0m\u001b[0;34m(\u001b[0m\u001b[0;34m'_'\u001b[0m\u001b[0;34m)\u001b[0m\u001b[0;34m\u001b[0m\u001b[0;34m\u001b[0m\u001b[0m\n\u001b[1;32m    312\u001b[0m     ]\n",
      "\u001b[0;32m~/.local/lib/python3.7/site-packages/gensim/utils.py\u001b[0m in \u001b[0;36mtokenize\u001b[0;34m(text, lowercase, deacc, encoding, errors, to_lower, lower)\u001b[0m\n\u001b[1;32m    263\u001b[0m         \u001b[0mtext\u001b[0m \u001b[0;34m=\u001b[0m \u001b[0mtext\u001b[0m\u001b[0;34m.\u001b[0m\u001b[0mlower\u001b[0m\u001b[0;34m(\u001b[0m\u001b[0;34m)\u001b[0m\u001b[0;34m\u001b[0m\u001b[0;34m\u001b[0m\u001b[0m\n\u001b[1;32m    264\u001b[0m     \u001b[0;32mif\u001b[0m \u001b[0mdeacc\u001b[0m\u001b[0;34m:\u001b[0m\u001b[0;34m\u001b[0m\u001b[0;34m\u001b[0m\u001b[0m\n\u001b[0;32m--> 265\u001b[0;31m         \u001b[0mtext\u001b[0m \u001b[0;34m=\u001b[0m \u001b[0mdeaccent\u001b[0m\u001b[0;34m(\u001b[0m\u001b[0mtext\u001b[0m\u001b[0;34m)\u001b[0m\u001b[0;34m\u001b[0m\u001b[0;34m\u001b[0m\u001b[0m\n\u001b[0m\u001b[1;32m    266\u001b[0m     \u001b[0;32mreturn\u001b[0m \u001b[0msimple_tokenize\u001b[0m\u001b[0;34m(\u001b[0m\u001b[0mtext\u001b[0m\u001b[0;34m)\u001b[0m\u001b[0;34m\u001b[0m\u001b[0;34m\u001b[0m\u001b[0m\n\u001b[1;32m    267\u001b[0m \u001b[0;34m\u001b[0m\u001b[0m\n",
      "\u001b[0;32m~/.local/lib/python3.7/site-packages/gensim/utils.py\u001b[0m in \u001b[0;36mdeaccent\u001b[0;34m(text)\u001b[0m\n\u001b[1;32m    197\u001b[0m         \u001b[0mtext\u001b[0m \u001b[0;34m=\u001b[0m \u001b[0mtext\u001b[0m\u001b[0;34m.\u001b[0m\u001b[0mdecode\u001b[0m\u001b[0;34m(\u001b[0m\u001b[0;34m'utf8'\u001b[0m\u001b[0;34m)\u001b[0m\u001b[0;34m\u001b[0m\u001b[0;34m\u001b[0m\u001b[0m\n\u001b[1;32m    198\u001b[0m     \u001b[0mnorm\u001b[0m \u001b[0;34m=\u001b[0m \u001b[0municodedata\u001b[0m\u001b[0;34m.\u001b[0m\u001b[0mnormalize\u001b[0m\u001b[0;34m(\u001b[0m\u001b[0;34m\"NFD\"\u001b[0m\u001b[0;34m,\u001b[0m \u001b[0mtext\u001b[0m\u001b[0;34m)\u001b[0m\u001b[0;34m\u001b[0m\u001b[0;34m\u001b[0m\u001b[0m\n\u001b[0;32m--> 199\u001b[0;31m     \u001b[0mresult\u001b[0m \u001b[0;34m=\u001b[0m \u001b[0;34m''\u001b[0m\u001b[0;34m.\u001b[0m\u001b[0mjoin\u001b[0m\u001b[0;34m(\u001b[0m\u001b[0mch\u001b[0m \u001b[0;32mfor\u001b[0m \u001b[0mch\u001b[0m \u001b[0;32min\u001b[0m \u001b[0mnorm\u001b[0m \u001b[0;32mif\u001b[0m \u001b[0municodedata\u001b[0m\u001b[0;34m.\u001b[0m\u001b[0mcategory\u001b[0m\u001b[0;34m(\u001b[0m\u001b[0mch\u001b[0m\u001b[0;34m)\u001b[0m \u001b[0;34m!=\u001b[0m \u001b[0;34m'Mn'\u001b[0m\u001b[0;34m)\u001b[0m\u001b[0;34m\u001b[0m\u001b[0;34m\u001b[0m\u001b[0m\n\u001b[0m\u001b[1;32m    200\u001b[0m     \u001b[0;32mreturn\u001b[0m \u001b[0municodedata\u001b[0m\u001b[0;34m.\u001b[0m\u001b[0mnormalize\u001b[0m\u001b[0;34m(\u001b[0m\u001b[0;34m\"NFC\"\u001b[0m\u001b[0;34m,\u001b[0m \u001b[0mresult\u001b[0m\u001b[0;34m)\u001b[0m\u001b[0;34m\u001b[0m\u001b[0;34m\u001b[0m\u001b[0m\n\u001b[1;32m    201\u001b[0m \u001b[0;34m\u001b[0m\u001b[0m\n",
      "\u001b[0;32m~/.local/lib/python3.7/site-packages/gensim/utils.py\u001b[0m in \u001b[0;36m<genexpr>\u001b[0;34m(.0)\u001b[0m\n\u001b[1;32m    197\u001b[0m         \u001b[0mtext\u001b[0m \u001b[0;34m=\u001b[0m \u001b[0mtext\u001b[0m\u001b[0;34m.\u001b[0m\u001b[0mdecode\u001b[0m\u001b[0;34m(\u001b[0m\u001b[0;34m'utf8'\u001b[0m\u001b[0;34m)\u001b[0m\u001b[0;34m\u001b[0m\u001b[0;34m\u001b[0m\u001b[0m\n\u001b[1;32m    198\u001b[0m     \u001b[0mnorm\u001b[0m \u001b[0;34m=\u001b[0m \u001b[0municodedata\u001b[0m\u001b[0;34m.\u001b[0m\u001b[0mnormalize\u001b[0m\u001b[0;34m(\u001b[0m\u001b[0;34m\"NFD\"\u001b[0m\u001b[0;34m,\u001b[0m \u001b[0mtext\u001b[0m\u001b[0;34m)\u001b[0m\u001b[0;34m\u001b[0m\u001b[0;34m\u001b[0m\u001b[0m\n\u001b[0;32m--> 199\u001b[0;31m     \u001b[0mresult\u001b[0m \u001b[0;34m=\u001b[0m \u001b[0;34m''\u001b[0m\u001b[0;34m.\u001b[0m\u001b[0mjoin\u001b[0m\u001b[0;34m(\u001b[0m\u001b[0mch\u001b[0m \u001b[0;32mfor\u001b[0m \u001b[0mch\u001b[0m \u001b[0;32min\u001b[0m \u001b[0mnorm\u001b[0m \u001b[0;32mif\u001b[0m \u001b[0municodedata\u001b[0m\u001b[0;34m.\u001b[0m\u001b[0mcategory\u001b[0m\u001b[0;34m(\u001b[0m\u001b[0mch\u001b[0m\u001b[0;34m)\u001b[0m \u001b[0;34m!=\u001b[0m \u001b[0;34m'Mn'\u001b[0m\u001b[0;34m)\u001b[0m\u001b[0;34m\u001b[0m\u001b[0;34m\u001b[0m\u001b[0m\n\u001b[0m\u001b[1;32m    200\u001b[0m     \u001b[0;32mreturn\u001b[0m \u001b[0municodedata\u001b[0m\u001b[0;34m.\u001b[0m\u001b[0mnormalize\u001b[0m\u001b[0;34m(\u001b[0m\u001b[0;34m\"NFC\"\u001b[0m\u001b[0;34m,\u001b[0m \u001b[0mresult\u001b[0m\u001b[0;34m)\u001b[0m\u001b[0;34m\u001b[0m\u001b[0;34m\u001b[0m\u001b[0m\n\u001b[1;32m    201\u001b[0m \u001b[0;34m\u001b[0m\u001b[0m\n",
      "\u001b[0;31mKeyboardInterrupt\u001b[0m: "
     ]
    }
   ],
   "source": [
    "# train model\n",
    "model = Top2Vec(corpus, document_ids = document_ids)"
   ]
  },
  {
   "cell_type": "code",
   "execution_count": null,
   "metadata": {},
   "outputs": [],
   "source": [
    "# model.get_num_topics()"
   ]
  },
  {
   "cell_type": "code",
   "execution_count": null,
   "metadata": {},
   "outputs": [],
   "source": [
    "# save model\n",
    "model.save('../models/top2vec/top2vecmodel_50_2')"
   ]
  },
  {
   "cell_type": "code",
   "execution_count": 5,
   "metadata": {},
   "outputs": [],
   "source": [
    "# load model\n",
    "model = Top2Vec.load('/work/62138/models/top2vec/top2vecmodel_50_2')"
   ]
  },
  {
   "source": [
    "### Show 5 topics most close to keyword"
   ],
   "cell_type": "markdown",
   "metadata": {}
  },
  {
   "cell_type": "code",
   "execution_count": null,
   "metadata": {},
   "outputs": [],
   "source": [
    "topic_words, word_scores, topic_scores, topic_nums = model.search_topics(keywords=[\"aardbeving\"], num_topics=5)\n",
    "for topic in topic_nums:\n",
    "    model.generate_topic_wordcloud(topic)"
   ]
  },
  {
   "source": [
    "### Get topic distribution per document\n",
    "\n",
    "The build matrix is too large, so this has to be done in multiple runs. The output-files are saved, and merged afterwards"
   ],
   "cell_type": "markdown",
   "metadata": {}
  },
  {
   "cell_type": "code",
   "execution_count": null,
   "metadata": {},
   "outputs": [],
   "source": [
    "# a very unpretty way to get the topics per document in one file, part one\n",
    "chunk_ids = document_ids[100000:113000]\n",
    "\n",
    "topic_ids, topic_vals, words, word_scores = model.get_documents_topics(doc_ids = chunk_ids, num_topics=415)\n",
    "\n",
    "\n",
    "representations = []\n",
    "for doc_topic_ids, doc_topic_vals in zip(topic_ids, topic_vals):\n",
    "    representations.append(\n",
    "        doc_topic_vals[doc_topic_ids]\n",
    "    )\n",
    "\n",
    "merged_rep = [list(l) for l in zip(chunk_ids, representations)]\n",
    "np.save('/work/62138/models/representations_5.npy', merged_rep)"
   ]
  },
  {
   "cell_type": "code",
   "execution_count": null,
   "metadata": {},
   "outputs": [],
   "source": [
    "# merge files\n",
    "\n",
    "merged_rep_1 = np.load('/work/62138/models/representations_1.npy', allow_pickle=True).tolist()\n",
    "merged_rep_2 = np.load('/work/62138/models/representations_2.npy', allow_pickle=True).tolist()\n",
    "merged_rep_3 = np.load('/work/62138/models/representations_3.npy', allow_pickle=True).tolist()\n",
    "merged_rep_4 = np.load('/work/62138/models/representations_4.npy', allow_pickle=True).tolist()\n",
    "merged_rep_5 = np.load('/work/62138/models/representations_5.npy', allow_pickle=True).tolist()\n",
    "\n",
    "merged = merged_rep_1 + merged_rep_2 + merged_rep_3 + merged_rep_4 + merged_rep_5\n",
    "np.save('/work/62138/models/representation_final_50.npy', merged)"
   ]
  },
  {
   "source": [
    "## Part II: hierarchically reduced model (100 topics)"
   ],
   "cell_type": "markdown",
   "metadata": {}
  },
  {
   "cell_type": "code",
   "execution_count": 6,
   "metadata": {},
   "outputs": [
    {
     "output_type": "execute_result",
     "data": {
      "text/plain": "100"
     },
     "metadata": {},
     "execution_count": 6
    }
   ],
   "source": [
    "model.get_num_topics(reduced=True)"
   ]
  },
  {
   "cell_type": "code",
   "execution_count": 7,
   "metadata": {},
   "outputs": [
    {
     "output_type": "execute_result",
     "data": {
      "text/plain": "(array([['motbuitjes', 'wolkachtig', 'dijzig', ..., 'vaak', 'avond',\n         'gemaakt'],\n        ['overleede', 'do', 'weeduwe', ..., 'kreeg', 'braave', 'geworde'],\n        ['sur', 'un', 'pour', ..., 'fonctions', 'moyens', 'donne'],\n        ...,\n        ['pinck', 'koijen', 'begraaft', ..., 'swager', 'maanden', 'ja'],\n        ['iseghem', 'hilonius', 'kortryk', ..., 'wereld', 'nauwelyks',\n         'naderhand'],\n        ['heeze', 'leende', 'tilburg', ..., 'dezelfde', 'bevestigd',\n         'denzelfden']], dtype='<U15'),\n array([[0.5028843 , 0.49899572, 0.48206916, ..., 0.369322  , 0.36785483,\n         0.36785358],\n        [0.5346172 , 0.5256508 , 0.5042748 , ..., 0.37379274, 0.37302214,\n         0.37121522],\n        [0.6622853 , 0.6533228 , 0.65116787, ..., 0.60434836, 0.6040601 ,\n         0.6036361 ],\n        ...,\n        [0.58000904, 0.5287279 , 0.51278454, ..., 0.30318877, 0.3025775 ,\n         0.30000535],\n        [0.6747709 , 0.59288144, 0.54518485, ..., 0.34774998, 0.34692225,\n         0.3456816 ],\n        [0.53961915, 0.5204134 , 0.49864477, ..., 0.3520727 , 0.35162872,\n         0.35113007]], dtype=float32),\n array([ 0,  1,  2,  3,  4,  5,  6,  7,  8,  9, 10, 11, 12, 13, 14, 15, 16,\n        17, 18, 19, 20, 21, 22, 23, 24, 25, 26, 27, 28, 29, 30, 31, 32, 33,\n        34, 35, 36, 37, 38, 39, 40, 41, 42, 43, 44, 45, 46, 47, 48, 49, 50,\n        51, 52, 53, 54, 55, 56, 57, 58, 59, 60, 61, 62, 63, 64, 65, 66, 67,\n        68, 69, 70, 71, 72, 73, 74, 75, 76, 77, 78, 79, 80, 81, 82, 83, 84,\n        85, 86, 87, 88, 89, 90, 91, 92, 93, 94, 95, 96, 97, 98, 99]))"
     },
     "metadata": {},
     "execution_count": 7
    }
   ],
   "source": [
    "model.get_topics(reduced=True)"
   ]
  },
  {
   "cell_type": "code",
   "execution_count": 8,
   "metadata": {},
   "outputs": [
    {
     "output_type": "execute_result",
     "data": {
      "text/plain": "112277"
     },
     "metadata": {},
     "execution_count": 8
    }
   ],
   "source": [
    "len(document_ids)"
   ]
  },
  {
   "cell_type": "code",
   "execution_count": null,
   "metadata": {},
   "outputs": [],
   "source": [
    "# hierarchically reduce model to 100 topics\n",
    "\n",
    "model.hierarchical_topic_reduction(100)"
   ]
  },
  {
   "source": [
    "### Get topic distribution per document\n",
    "\n",
    "The build matrix is too large, so this has to be done in multiple runs. The output-files are saved, and merged afterwards"
   ],
   "cell_type": "markdown",
   "metadata": {}
  },
  {
   "cell_type": "code",
   "execution_count": 58,
   "metadata": {},
   "outputs": [],
   "source": [
    "# topics per document distribution (reduced)\n",
    "chunk_ids = document_ids[60000:120000]\n",
    "\n",
    "topic_ids, topic_vals, words, word_scores = model.get_documents_topics(doc_ids = chunk_ids, reduced=True, num_topics=100)\n",
    "\n",
    "representations = []\n",
    "for doc_topic_ids, doc_topic_vals in zip(topic_ids, topic_vals):\n",
    "    representations.append(\n",
    "        doc_topic_vals[np.argsort(doc_topic_ids)]\n",
    "    )\n",
    "\n",
    "merged_rep = [list(l) for l in zip(chunk_ids, representations)]\n",
    "np.save('/work/62138/models/representations_reduced_2.npy', merged_rep)"
   ]
  },
  {
   "cell_type": "code",
   "execution_count": 9,
   "metadata": {},
   "outputs": [],
   "source": [
    "# merge files\n",
    "\n",
    "merged_rep_1 = np.load('/work/62138/models/representations_reduced_1.npy', allow_pickle=True).tolist()\n",
    "merged_rep_2 = np.load('/work/62138/models/representations_reduced_2.npy', allow_pickle=True).tolist()\n",
    "\n",
    "\n",
    "merged = merged_rep_1 + merged_rep_2\n",
    "np.save('/work/62138/models/representation_final_50_reduced.npy', merged)"
   ]
  },
  {
   "source": [
    "### Explore topics"
   ],
   "cell_type": "markdown",
   "metadata": {}
  },
  {
   "cell_type": "code",
   "execution_count": 60,
   "metadata": {},
   "outputs": [
    {
     "output_type": "execute_result",
     "data": {
      "text/plain": "(array([['motbuitjes', 'wolkachtig', 'dijzig', ..., 'vaak', 'avond',\n         'gemaakt'],\n        ['overleede', 'do', 'weeduwe', ..., 'kreeg', 'braave', 'geworde'],\n        ['sur', 'un', 'pour', ..., 'fonctions', 'moyens', 'donne'],\n        ...,\n        ['pinck', 'koijen', 'begraaft', ..., 'swager', 'maanden', 'ja'],\n        ['iseghem', 'hilonius', 'kortryk', ..., 'wereld', 'nauwelyks',\n         'naderhand'],\n        ['heeze', 'leende', 'tilburg', ..., 'dezelfde', 'bevestigd',\n         'denzelfden']], dtype='<U15'),\n array([[0.5028843 , 0.49899572, 0.48206916, ..., 0.369322  , 0.36785483,\n         0.36785358],\n        [0.5346172 , 0.5256508 , 0.5042748 , ..., 0.37379274, 0.37302214,\n         0.37121522],\n        [0.6622853 , 0.6533228 , 0.65116787, ..., 0.60434836, 0.6040601 ,\n         0.6036361 ],\n        ...,\n        [0.58000904, 0.5287279 , 0.51278454, ..., 0.30318877, 0.3025775 ,\n         0.30000535],\n        [0.6747709 , 0.59288144, 0.54518485, ..., 0.34774998, 0.34692225,\n         0.3456816 ],\n        [0.53961915, 0.5204134 , 0.49864477, ..., 0.3520727 , 0.35162872,\n         0.35113007]], dtype=float32),\n array([ 0,  1,  2,  3,  4,  5,  6,  7,  8,  9, 10, 11, 12, 13, 14, 15, 16,\n        17, 18, 19, 20, 21, 22, 23, 24, 25, 26, 27, 28, 29, 30, 31, 32, 33,\n        34, 35, 36, 37, 38, 39, 40, 41, 42, 43, 44, 45, 46, 47, 48, 49, 50,\n        51, 52, 53, 54, 55, 56, 57, 58, 59, 60, 61, 62, 63, 64, 65, 66, 67,\n        68, 69, 70, 71, 72, 73, 74, 75, 76, 77, 78, 79, 80, 81, 82, 83, 84,\n        85, 86, 87, 88, 89, 90, 91, 92, 93, 94, 95, 96, 97, 98, 99]))"
     },
     "metadata": {},
     "execution_count": 60
    }
   ],
   "source": [
    "model.get_topics(reduced=True)"
   ]
  },
  {
   "cell_type": "code",
   "execution_count": 14,
   "metadata": {},
   "outputs": [
    {
     "output_type": "execute_result",
     "data": {
      "text/plain": "(array(['do is de Heer Jacob Bodisko, Bierbeschoijer overleeden 268',\n        'do. Is de Heer Jacob Oortman, Geweermaaker, Overleeden,',\n        '8 do is de Huijs vrou van de Heer Jan Terhorst, op de overtoomse weg woonende overleeden,',\n        '15 do  is de Huijs vrou van de Heer Nicolaas Van Tame overleeden is de maakelaar Lemmers overleeden',\n        '2 Maart   is de Huijs vrou van de Heer Jan Tiers overleeden,',\n        '14 do Is de Heer Poulus Wenking de Jonge maakelaar overleeden,',\n        '17 do . is de Huijs vrou van de Heer Wijnkoper Erik Tiers overleede',\n        '16 do Is Mejuffrouw giesenbier overleeden in een hooge ouderdom, sij hat een seer Faaije plaats in de maarse laantje',\n        '22 do  is de wel EdL Heer Scheepen Leonardt van Hoesen, overleede',\n        '22 do  is de Huijs vrou van de Heer Been van Haamel overleede#'],\n       dtype=object),\n array([0.85241294, 0.84860957, 0.84079134, 0.82981914, 0.82960826,\n        0.82753557, 0.82710737, 0.82513577, 0.81678134, 0.81051886],\n       dtype=float32),\n array([94948, 95273, 94031, 92943, 94049, 95803, 93942, 96047, 93467,\n        92933]))"
     },
     "metadata": {},
     "execution_count": 14
    }
   ],
   "source": [
    "model.search_documents_by_topic(1, num_docs=10, reduced=True)"
   ]
  },
  {
   "cell_type": "code",
   "execution_count": 59,
   "metadata": {},
   "outputs": [
    {
     "output_type": "execute_result",
     "data": {
      "text/plain": "(array(['Den twaelfsten  Kwam alhier van Doornyck aen zes stukken geschut en twee obitzen, met hunne buskruyd 306',\n        \"  Den  3 Februarij . Des nachts te 1 uur begon men wederom zwaar van de wallen te schieten, en wel langs den dijk benoorden Delfzijl op de batterij bij het huis van de Wedw. TRIJNTJE P. NAAT, bij Uitwierde, welke kanonnade bijna zonder ophouden dezen geheelen dag voortduurde. Dit schieten werd van genoemde batterij beantwoord, waardoor wederom eenige kogels in de forteresse gebragt werden, en eenige huizen werden beschadigd. Vervolgens reed de Kommandant met een beschonken hoofd, vergezeld van eenige Gensd'armes te paard, in vollen galop de vesting uit, ten einde, zoo het scheen, eene ontdekking   op voornoemde batterij te doen. Doch tot op de hoogte van de afgebrande boerderij van PIETER JAKOBS BOS gekomen, werden zij onverwacht van gemelde batterij zoodanig gesalueerd, dat weldra een' van de Gensd'armes het geheele hoofd werd weggeschoten, en de overigen het hazenpad kozen. Het lijk van voormelden Gensd'arme werd hier binnen gebragt en den volgenden dag begraven.\",\n        '  Den  13 April . In den namiddag werd zeer sterk van de batterijen dezer vesting geschoten.',\n        \"21 . om 11 uur 's morgens deden 400, anderen zeggen 120, vrijwilligers eenen uitval langs de Roermondsche poort; de attaque was zoo hevig en spoedig, dat de onzen de twee eerste tranchées der Franschen overmeesterden en velen neersabelden, bijzonder de ruiters van Hessen-Philipstahl, die eenen kapitein en vier gemeenen gevangen namen; en het korps van Mathieu heeft zich extra gedistingeerd, die zelfs tot aan de derde loopgraaf doorgedrongen zijn, alwaar zij den ‘Rooden Haan’ in brand gestoken hebben. De onzen hebben gehad 27 gewonden en 23 dooden of vermisten. Voor 12 uur waren zij allen weder in de stad, die van den 7. reeds gesloten was, zoodat de kappesboeren (kooltelers) en anderen hunne vruchten niet konden inhalen. Alles was duur, een pond boter kostte in de winkels 26 stuivers (59 c. Hollandsch). De vesting was overigens voor 3 maanden ruim voorzien, het voornaamste magazijn was bij het Wei-klooster. (K. zegt dat de uitval geschiedde door 250 vrijwilligers van de infanterie en 50 man cavalerie, een gedeelte trok de Roermondsche-, het andere de Keulsche poort uit. Generaal Laurent was kort voor den aanval der onzen in de loopgraven geweest en ontsnapt aan 't gevaar van gevangen te worden genomen. De onzen moesten retireeren doordien Fransche cavalerie in galop van den berg kwam, gevolgd door een menigte infanterie. Onder de gewonden waren kapitein Wrangel van het korps van Mathieu, en luitenant Van Lynden der cavalerie, die een geweerschot door den linker schouder had en eenige dagen daarna overleed. Van de pionniers waren de commandant ter horst en twee manschappen licht geblesseerd.) (De Magistraat gaf order des avonds en des nachts niet zonder lantaarns op straat te gaan, op straf van arrest in de hoofdwacht en boete van 3 goudgulden,en zich niet op straat te vertoonen in geval van alarm, tenzij bij brand, Franq. 105.) 22. heeft het den heelen nacht rondom de stad zoo hevig met het kanon van de wallen geschoten, dat niemand kon slapen. (Gedurende den nacht zijn loopgraven gereed gekomen van begin 't Zand en bij den Ouden St. Jacob  verbonden met die buiten de Roermondsche poort; bij het Smitshuizen's hofje was een batterij opgeworpen; ten zuiden van Zwagerman's hofjes buiten de Maaspoort  tot den tuin van Soiron op den berg van het Hoogschoor, waar ook eene batterij was. Het belegeringsgeschut was niet aangekomen, de vijand had niet dan een paar veldstukken, K.) (Overdag werd van tijd tot tijd met bommen en granaten van buiten de Roermondsche- en Maaspoort geschoten, de vijand in de loopgraven loste een hagel van geweerkogels zoodra zich een kanonnier bij de stukken op den wal, liet zien. - Gedurende den duisteren nacht van den 22.-23. wierp men gedurig lichtballons van den wal, van de batterij bij den kwaktoren werd geschoten en in de loopgraven buiten de Roermondsche poort werden uit groote mortiers steenen geworpen, K.) 23. 's morgens attaqueerden de Franschen het fort Ginkel en waren met hun loopgraven gekomen onder het kanon. Men vuurde sterk op hen met cartassen (kartetsen), zoodat, volgens mij een Hollandsche bombardier verteld heeft, door een schot 35 Franschen in de loopgraven gebleven zijn. Van de onzen zijn 4 dood gebleven en 6 gewond. Alle kanonnen (2 uitgenomen, die de onzen vernageld hadden) zijn binnen de stad gebracht met alle ammunitie uit het fort Ginkel, alsook uit de buitenwerken. (Tegen den avond werd het fort verlaten, K.) 24. heeft het den heelen morgen uit de stad (van den Lichtenberg in de richting Maas afwaarts, K.) zoo sterk gekanonneerd, dat in de heele stad alle huizen daverden. (Eene divisie Engelschen had in het Ooierbroek gekampeerd, welke volgens bericht aan den commandant 3000 man sterk was. Het schieten was om ontzetting te bekomen, maar de Engelschen waren naar Waal en Maas afgemarcheerd. - Een nota van den 29. zegt: Generaal Laurent had bij de capitulatie zijn eerevvoord gegeven, dat de Engelsche troepen de Waal gepasseerd waren en daarvan geen hulp te wachten was; dit ongeacht was het onwaar. K.) Omtrent half 11 kwam een Fransch officier met eenen trompetter, beiden geblinddoekt langs de Roermondsche poort binnen, en werden door twee Hollandsche officiers naar het commandement geleid. Een kwartier vóor 12 uur zijn zij weder beiden om de stad uitgeleid. Om 2 uur namiddag is de grootmajoor van de schans (de overste Douglas, K.) en kapitein-ingenieur De Veye met eenen Hollandschen trompetter naar het hoofdkwartier der Franschen, op de Munt onder Tegelen, gereden, die omtrent 4 uur met twee Fransche officiers zijn binnen gekomen, die 's avonds om half 10 weder zijn uitgereden.\",\n        \"5 dito  hoorde men te X dat quetnoy 3 dezer door de geallieerden wat #### en t' garnizoen krijgsgevangen gemaakt.\",\n        \"1 7ber  is de cav: uit t' garnizoen van X vertrokken en na de kant van breda gemarcheert omnevens  d'andere cav:  van den staat gemon\",\n        'Den  21 Maart . Van hier vertrok een Parlementair naar Appingedam.   Verscheidene schoten vielen van de wallen. Een der Engelsche brikken aan de Knock lag wederom in vlot water.',\n        'Van nu tot het einde der maand  is niets bijzonders voorgevallen, dan alle dagen transporten van kanonnen, bommen, kogels, enz. naar den Rijn.',\n        \"5 aug:  is een comm: van 250 man van t'garnizoen na heerle gegaan om de taters\",\n        \"De Franschen maakten zware batterijen aan den Roskam (Stevenshuisje) buiten de Roermondsche poort, ook drie tranchées (loopgraven), waarop uit de stad sterk gevuurd werd; daar zijn verscheidene Franschen gebleven.  18.  's morgens kwart vóor 5 uur werd sterk uit de ‘werken’ (glacis) gevuurd op het huis Stalberg, waar ook een batterij gemaakt werd.\"],\n       dtype=object),\n array([0.49835882, 0.49640787, 0.49463347, 0.49356338, 0.48873743,\n        0.48816824, 0.48490372, 0.47700882, 0.47589073, 0.47460184]),\n array([87920, 82543, 82606, 23572, 36772, 36535, 82586, 23726, 36896,\n        23568]))"
     },
     "metadata": {},
     "execution_count": 59
    }
   ],
   "source": [
    "model.search_documents_by_keywords(['garnizoen', 'batterij'], num_docs=10)"
   ]
  },
  {
   "cell_type": "code",
   "execution_count": null,
   "metadata": {},
   "outputs": [],
   "source": []
  }
 ],
 "metadata": {
  "language_info": {
   "codemirror_mode": {
    "name": "ipython",
    "version": 3
   },
   "file_extension": ".py",
   "mimetype": "text/x-python",
   "name": "python",
   "nbconvert_exporter": "python",
   "pygments_lexer": "ipython3",
   "version": "3.7.3-final"
  },
  "orig_nbformat": 2,
  "kernelspec": {
   "name": "python37364bite0a87a1f8974488f9e0a8e7a1a3dad62",
   "display_name": "Python 3.7.3 64-bit"
  }
 },
 "nbformat": 4,
 "nbformat_minor": 2
}
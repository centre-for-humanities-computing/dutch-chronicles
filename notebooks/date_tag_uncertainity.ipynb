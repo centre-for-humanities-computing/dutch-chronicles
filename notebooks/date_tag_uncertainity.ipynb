{
 "cells": [
  {
   "cell_type": "code",
   "execution_count": 1,
   "metadata": {},
   "outputs": [],
   "source": [
    "import ndjson\n",
    "import pandas as pd\n",
    "import seaborn as sns"
   ]
  },
  {
   "cell_type": "code",
   "execution_count": 2,
   "metadata": {},
   "outputs": [],
   "source": [
    "# import primitives\n",
    "path_primitives_daily = '../data/primitives_220331/primitives_corrected_daily.ndjson'\n",
    "with open(path_primitives_daily) as fin:\n",
    "    primitives_daily = ndjson.load(fin)"
   ]
  },
  {
   "cell_type": "code",
   "execution_count": 3,
   "metadata": {},
   "outputs": [
    {
     "name": "stderr",
     "output_type": "stream",
     "text": [
      "/Users/au582299/.pyenv/versions/3.9.7/envs/chron_env/lib/python3.9/site-packages/seaborn/_decorators.py:36: FutureWarning: Pass the following variable as a keyword arg: x. From version 0.12, the only valid positional argument will be `data`, and passing other arguments without an explicit keyword will result in an error or misinterpretation.\n",
      "  warnings.warn(\n"
     ]
    },
    {
     "data": {
      "text/plain": [
       "<AxesSubplot:xlabel='date_uncertainity', ylabel='count'>"
      ]
     },
     "execution_count": 3,
     "metadata": {},
     "output_type": "execute_result"
    },
    {
     "data": {
      "image/png": "[encoded data removed]",
      "text/plain": [
       "<Figure size 432x288 with 1 Axes>"
      ]
     },
     "metadata": {
      "needs_background": "light"
     },
     "output_type": "display_data"
    }
   ],
   "source": [
    "df_uncertainity = pd.DataFrame(primitives_daily)\n",
    "sns.countplot(df_uncertainity['date_uncertainity'])"
   ]
  },
  {
   "cell_type": "code",
   "execution_count": 4,
   "metadata": {},
   "outputs": [
    {
     "data": {
      "text/html": [
       "<div>\n",
       "<style scoped>\n",
       "    .dataframe tbody tr th:only-of-type {\n",
       "        vertical-align: middle;\n",
       "    }\n",
       "\n",
       "    .dataframe tbody tr th {\n",
       "        vertical-align: top;\n",
       "    }\n",
       "\n",
       "    .dataframe thead th {\n",
       "        text-align: right;\n",
       "    }\n",
       "</style>\n",
       "<table border=\"1\" class=\"dataframe\">\n",
       "  <thead>\n",
       "    <tr style=\"text-align: right;\">\n",
       "      <th></th>\n",
       "      <th>count</th>\n",
       "      <th>mean</th>\n",
       "      <th>std</th>\n",
       "      <th>min</th>\n",
       "      <th>25%</th>\n",
       "      <th>50%</th>\n",
       "      <th>75%</th>\n",
       "      <th>max</th>\n",
       "    </tr>\n",
       "    <tr>\n",
       "      <th>call_nr</th>\n",
       "      <th></th>\n",
       "      <th></th>\n",
       "      <th></th>\n",
       "      <th></th>\n",
       "      <th></th>\n",
       "      <th></th>\n",
       "      <th></th>\n",
       "      <th></th>\n",
       "    </tr>\n",
       "  </thead>\n",
       "  <tbody>\n",
       "    <tr>\n",
       "      <th>1800_Brug_Wall_01</th>\n",
       "      <td>109.0</td>\n",
       "      <td>1.587156</td>\n",
       "      <td>2.161151</td>\n",
       "      <td>1.0</td>\n",
       "      <td>1.0</td>\n",
       "      <td>1.0</td>\n",
       "      <td>1.0</td>\n",
       "      <td>21.0</td>\n",
       "    </tr>\n",
       "    <tr>\n",
       "      <th>1602_Brus_Pott</th>\n",
       "      <td>364.0</td>\n",
       "      <td>1.541209</td>\n",
       "      <td>1.365031</td>\n",
       "      <td>1.0</td>\n",
       "      <td>1.0</td>\n",
       "      <td>1.0</td>\n",
       "      <td>2.0</td>\n",
       "      <td>18.0</td>\n",
       "    </tr>\n",
       "    <tr>\n",
       "      <th>1722_Huiz_Lust</th>\n",
       "      <td>515.0</td>\n",
       "      <td>1.697087</td>\n",
       "      <td>1.439267</td>\n",
       "      <td>1.0</td>\n",
       "      <td>1.0</td>\n",
       "      <td>1.0</td>\n",
       "      <td>2.0</td>\n",
       "      <td>13.0</td>\n",
       "    </tr>\n",
       "    <tr>\n",
       "      <th>1576_Utre_Anon</th>\n",
       "      <td>218.0</td>\n",
       "      <td>1.504587</td>\n",
       "      <td>1.087201</td>\n",
       "      <td>1.0</td>\n",
       "      <td>1.0</td>\n",
       "      <td>1.0</td>\n",
       "      <td>2.0</td>\n",
       "      <td>10.0</td>\n",
       "    </tr>\n",
       "    <tr>\n",
       "      <th>1584_Brug_Weyd</th>\n",
       "      <td>516.0</td>\n",
       "      <td>1.079457</td>\n",
       "      <td>0.448822</td>\n",
       "      <td>1.0</td>\n",
       "      <td>1.0</td>\n",
       "      <td>1.0</td>\n",
       "      <td>1.0</td>\n",
       "      <td>9.0</td>\n",
       "    </tr>\n",
       "    <tr>\n",
       "      <th>...</th>\n",
       "      <td>...</td>\n",
       "      <td>...</td>\n",
       "      <td>...</td>\n",
       "      <td>...</td>\n",
       "      <td>...</td>\n",
       "      <td>...</td>\n",
       "      <td>...</td>\n",
       "      <td>...</td>\n",
       "    </tr>\n",
       "    <tr>\n",
       "      <th>1675_Brug_Cler</th>\n",
       "      <td>215.0</td>\n",
       "      <td>1.125581</td>\n",
       "      <td>0.332150</td>\n",
       "      <td>1.0</td>\n",
       "      <td>1.0</td>\n",
       "      <td>1.0</td>\n",
       "      <td>1.0</td>\n",
       "      <td>2.0</td>\n",
       "    </tr>\n",
       "    <tr>\n",
       "      <th>1668_Gent_Bill_04</th>\n",
       "      <td>196.0</td>\n",
       "      <td>1.025510</td>\n",
       "      <td>0.158073</td>\n",
       "      <td>1.0</td>\n",
       "      <td>1.0</td>\n",
       "      <td>1.0</td>\n",
       "      <td>1.0</td>\n",
       "      <td>2.0</td>\n",
       "    </tr>\n",
       "    <tr>\n",
       "      <th>1668_Gent_Bill_05</th>\n",
       "      <td>218.0</td>\n",
       "      <td>1.004587</td>\n",
       "      <td>0.067729</td>\n",
       "      <td>1.0</td>\n",
       "      <td>1.0</td>\n",
       "      <td>1.0</td>\n",
       "      <td>1.0</td>\n",
       "      <td>2.0</td>\n",
       "    </tr>\n",
       "    <tr>\n",
       "      <th>1668_Gent_Bill_07</th>\n",
       "      <td>94.0</td>\n",
       "      <td>1.021277</td>\n",
       "      <td>0.145079</td>\n",
       "      <td>1.0</td>\n",
       "      <td>1.0</td>\n",
       "      <td>1.0</td>\n",
       "      <td>1.0</td>\n",
       "      <td>2.0</td>\n",
       "    </tr>\n",
       "    <tr>\n",
       "      <th>1668_Gent_Bill_02</th>\n",
       "      <td>278.0</td>\n",
       "      <td>1.000000</td>\n",
       "      <td>0.000000</td>\n",
       "      <td>1.0</td>\n",
       "      <td>1.0</td>\n",
       "      <td>1.0</td>\n",
       "      <td>1.0</td>\n",
       "      <td>1.0</td>\n",
       "    </tr>\n",
       "  </tbody>\n",
       "</table>\n",
       "<p>73 rows × 8 columns</p>\n",
       "</div>"
      ],
      "text/plain": [
       "                   count      mean       std  min  25%  50%  75%   max\n",
       "call_nr                                                               \n",
       "1800_Brug_Wall_01  109.0  1.587156  2.161151  1.0  1.0  1.0  1.0  21.0\n",
       "1602_Brus_Pott     364.0  1.541209  1.365031  1.0  1.0  1.0  2.0  18.0\n",
       "1722_Huiz_Lust     515.0  1.697087  1.439267  1.0  1.0  1.0  2.0  13.0\n",
       "1576_Utre_Anon     218.0  1.504587  1.087201  1.0  1.0  1.0  2.0  10.0\n",
       "1584_Brug_Weyd     516.0  1.079457  0.448822  1.0  1.0  1.0  1.0   9.0\n",
       "...                  ...       ...       ...  ...  ...  ...  ...   ...\n",
       "1675_Brug_Cler     215.0  1.125581  0.332150  1.0  1.0  1.0  1.0   2.0\n",
       "1668_Gent_Bill_04  196.0  1.025510  0.158073  1.0  1.0  1.0  1.0   2.0\n",
       "1668_Gent_Bill_05  218.0  1.004587  0.067729  1.0  1.0  1.0  1.0   2.0\n",
       "1668_Gent_Bill_07   94.0  1.021277  0.145079  1.0  1.0  1.0  1.0   2.0\n",
       "1668_Gent_Bill_02  278.0  1.000000  0.000000  1.0  1.0  1.0  1.0   1.0\n",
       "\n",
       "[73 rows x 8 columns]"
      ]
     },
     "execution_count": 4,
     "metadata": {},
     "output_type": "execute_result"
    }
   ],
   "source": [
    "# in which call_nr are there the most of tags per doc\n",
    "df_uncertainity['len_tags'] = [len(tag) for tag in df_uncertainity['date'].tolist()]\n",
    "df_uncertainity.groupby('call_nr')['len_tags'].describe().sort_values(by='max', ascending=False)"
   ]
  },
  {
   "cell_type": "code",
   "execution_count": null,
   "metadata": {},
   "outputs": [],
   "source": []
  }
 ],
 "metadata": {
  "interpreter": {
   "hash": "ec7ac826d2dfa9bdc8ae2c6e9e64d425b86d081169e124421e52232c031c5220"
  },
  "kernelspec": {
   "display_name": "Python 3.9.7 64-bit ('chron_env')",
   "language": "python",
   "name": "python3"
  },
  "language_info": {
   "codemirror_mode": {
    "name": "ipython",
    "version": 3
   },
   "file_extension": ".py",
   "mimetype": "text/x-python",
   "name": "python",
   "nbconvert_exporter": "python",
   "pygments_lexer": "ipython3",
   "version": "3.9.7"
  },
  "orig_nbformat": 4
 },
 "nbformat": 4,
 "nbformat_minor": 2
}

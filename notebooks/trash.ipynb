{
 "cells": [
  {
   "source": [
    "### Get topic distribution per document\n",
    "\n",
    "The build matrix is too large, so this has to be done in multiple runs. The output-files are saved, and merged afterwards"
   ],
   "cell_type": "markdown",
   "metadata": {}
  },
  {
   "cell_type": "code",
   "execution_count": null,
   "metadata": {},
   "outputs": [],
   "source": [
    "# topics per document distribution (reduced)\n",
    "chunk_ids = document_ids[60000:120000]\n",
    "\n",
    "topic_ids, topic_vals, words, word_scores = model.get_documents_topics(doc_ids = chunk_ids, reduced=True, num_topics=50)\n",
    "\n",
    "representations = []\n",
    "for doc_topic_ids, doc_topic_vals in zip(topic_ids, topic_vals):\n",
    "    representations.append(\n",
    "        doc_topic_vals[np.argsort(doc_topic_ids)]\n",
    "    )\n",
    "\n",
    "merged_rep = [list(l) for l in zip(chunk_ids, representations)]\n",
    "np.save('/work/62138/models/representations_reduced_50_2.npy', merged_rep)"
   ]
  },
  {
   "cell_type": "code",
   "execution_count": null,
   "metadata": {},
   "outputs": [],
   "source": [
    "# merge files\n",
    "\n",
    "merged_rep_1 = np.load('/work/62138/models/representations_reduced_50_1.npy', allow_pickle=True).tolist()\n",
    "merged_rep_2 = np.load('/work/62138/models/representations_reduced_50_2.npy', allow_pickle=True).tolist()\n",
    "\n",
    "\n",
    "merged = merged_rep_1 + merged_rep_2\n",
    "np.save('/work/62138/models/representation_final_50_reduced_50.npy', merged)"
   ]
  }
 ],
 "metadata": {
  "language_info": {
   "codemirror_mode": {
    "name": "ipython",
    "version": 3
   },
   "file_extension": ".py",
   "mimetype": "text/x-python",
   "name": "python",
   "nbconvert_exporter": "python",
   "pygments_lexer": "ipython3",
   "version": 3
  },
  "orig_nbformat": 2
 },
 "nbformat": 4,
 "nbformat_minor": 2
}
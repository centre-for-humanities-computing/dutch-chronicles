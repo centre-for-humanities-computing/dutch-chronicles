{
 "cells": [
  {
   "cell_type": "markdown",
   "metadata": {},
   "source": [
    "# Exploration: events over time\n",
    "Event is characterized by:\n",
    "- coming from corrected corpus\n",
    "- having a single date-tag with daily resolution\n",
    "    - sometimes achieved using a heuristic (see df_prim['date_uncertainity'])\n",
    "- text length > 50 characters"
   ]
  },
  {
   "cell_type": "code",
   "execution_count": 1,
   "metadata": {},
   "outputs": [],
   "source": [
    "import re\n",
    "import ndjson\n",
    "import pandas as pd\n",
    "\n",
    "import seaborn as sns\n",
    "import matplotlib.pyplot as plt"
   ]
  },
  {
   "cell_type": "code",
   "execution_count": 20,
   "metadata": {},
   "outputs": [],
   "source": [
    "# import primitives\n",
    "path_primitives_daily = '../data/primitives_220331/primitives_corrected_daily.ndjson'\n",
    "with open(path_primitives_daily) as fin:\n",
    "    primitives_daily = ndjson.load(fin)\n",
    "\n",
    "# crude prim\n",
    "path_primitives_all = '../data/primitives_220331/primitives_corrected.ndjson'\n",
    "with open(path_primitives_all) as fin:\n",
    "    primitives_all = ndjson.load(fin)"
   ]
  },
  {
   "cell_type": "code",
   "execution_count": 24,
   "metadata": {},
   "outputs": [
    {
     "name": "stdout",
     "output_type": "stream",
     "text": [
      "all events: \t\t\t\t 41512\n",
      "daily-res events: \t\t\t 25599\n",
      "daily-res events longer than 50: \t 22394\n"
     ]
    }
   ],
   "source": [
    "df_prim = pd.DataFrame(primitives_daily)\n",
    "df_prim['doc_len'] = [len(doc) for doc in df_prim['text'].tolist()]\n",
    "\n",
    "df_events = df_prim.query('doc_len >= 50')\n",
    "df_events.head()\n",
    "\n",
    "print('\\n'.join([\n",
    "    f'all events: \\t\\t\\t\\t {len(primitives_all)}',\n",
    "    f'daily-res events: \\t\\t\\t {len(df_prim)}',\n",
    "    f'daily-res events longer than 50: \\t {len(df_events)}'\n",
    "]))"
   ]
  },
  {
   "cell_type": "markdown",
   "metadata": {},
   "source": [
    "# chronicles\n",
    "## event length per chronicle"
   ]
  },
  {
   "cell_type": "code",
   "execution_count": 44,
   "metadata": {},
   "outputs": [
    {
     "data": {
      "image/png": "[encoded data removed]",
      "text/plain": [
       "<Figure size 720x288 with 2 Axes>"
      ]
     },
     "metadata": {
      "needs_background": "light"
     },
     "output_type": "display_data"
    }
   ],
   "source": [
    "fig, axs = plt.subplots(1, 2, figsize=(10, 4))\n",
    "sns.histplot(df_events['doc_len'], ax=axs[0])\n",
    "axs[0].title.set_text('all events')\n",
    "sns.histplot(df_events['doc_len'].loc[lambda x: x < 2000], ax=axs[1])\n",
    "axs[1].title.set_text('events under 2000 char')"
   ]
  },
  {
   "cell_type": "code",
   "execution_count": 45,
   "metadata": {},
   "outputs": [
    {
     "data": {
      "text/html": [
       "<div>\n",
       "<style scoped>\n",
       "    .dataframe tbody tr th:only-of-type {\n",
       "        vertical-align: middle;\n",
       "    }\n",
       "\n",
       "    .dataframe tbody tr th {\n",
       "        vertical-align: top;\n",
       "    }\n",
       "\n",
       "    .dataframe thead th {\n",
       "        text-align: right;\n",
       "    }\n",
       "</style>\n",
       "<table border=\"1\" class=\"dataframe\">\n",
       "  <thead>\n",
       "    <tr style=\"text-align: right;\">\n",
       "      <th></th>\n",
       "      <th>count</th>\n",
       "      <th>mean</th>\n",
       "      <th>std</th>\n",
       "      <th>min</th>\n",
       "      <th>25%</th>\n",
       "      <th>50%</th>\n",
       "      <th>75%</th>\n",
       "      <th>max</th>\n",
       "    </tr>\n",
       "    <tr>\n",
       "      <th>call_nr</th>\n",
       "      <th></th>\n",
       "      <th></th>\n",
       "      <th></th>\n",
       "      <th></th>\n",
       "      <th></th>\n",
       "      <th></th>\n",
       "      <th></th>\n",
       "      <th></th>\n",
       "    </tr>\n",
       "  </thead>\n",
       "  <tbody>\n",
       "    <tr>\n",
       "      <th>1577_Utre_Anon</th>\n",
       "      <td>16.0</td>\n",
       "      <td>4567.75</td>\n",
       "      <td>5440.29</td>\n",
       "      <td>79.0</td>\n",
       "      <td>154.00</td>\n",
       "      <td>3055.5</td>\n",
       "      <td>6457.75</td>\n",
       "      <td>17732.0</td>\n",
       "    </tr>\n",
       "    <tr>\n",
       "      <th>1568_Gent_Vaer</th>\n",
       "      <td>545.0</td>\n",
       "      <td>3640.89</td>\n",
       "      <td>4964.05</td>\n",
       "      <td>96.0</td>\n",
       "      <td>1031.00</td>\n",
       "      <td>2190.0</td>\n",
       "      <td>4643.00</td>\n",
       "      <td>63781.0</td>\n",
       "    </tr>\n",
       "    <tr>\n",
       "      <th>1567_Amst_Reae</th>\n",
       "      <td>31.0</td>\n",
       "      <td>2332.32</td>\n",
       "      <td>2148.64</td>\n",
       "      <td>69.0</td>\n",
       "      <td>971.50</td>\n",
       "      <td>1526.0</td>\n",
       "      <td>2798.50</td>\n",
       "      <td>8611.0</td>\n",
       "    </tr>\n",
       "    <tr>\n",
       "      <th>1604_Bosc_Anon</th>\n",
       "      <td>67.0</td>\n",
       "      <td>2162.13</td>\n",
       "      <td>3104.11</td>\n",
       "      <td>52.0</td>\n",
       "      <td>149.00</td>\n",
       "      <td>1145.0</td>\n",
       "      <td>2684.00</td>\n",
       "      <td>15996.0</td>\n",
       "    </tr>\n",
       "    <tr>\n",
       "      <th>1576_Zier_Clae</th>\n",
       "      <td>19.0</td>\n",
       "      <td>1607.63</td>\n",
       "      <td>1312.52</td>\n",
       "      <td>92.0</td>\n",
       "      <td>894.50</td>\n",
       "      <td>1090.0</td>\n",
       "      <td>2122.00</td>\n",
       "      <td>5853.0</td>\n",
       "    </tr>\n",
       "    <tr>\n",
       "      <th>...</th>\n",
       "      <td>...</td>\n",
       "      <td>...</td>\n",
       "      <td>...</td>\n",
       "      <td>...</td>\n",
       "      <td>...</td>\n",
       "      <td>...</td>\n",
       "      <td>...</td>\n",
       "      <td>...</td>\n",
       "    </tr>\n",
       "    <tr>\n",
       "      <th>1716_Jisp_Anon</th>\n",
       "      <td>295.0</td>\n",
       "      <td>223.13</td>\n",
       "      <td>242.93</td>\n",
       "      <td>50.0</td>\n",
       "      <td>96.50</td>\n",
       "      <td>155.0</td>\n",
       "      <td>274.00</td>\n",
       "      <td>2484.0</td>\n",
       "    </tr>\n",
       "    <tr>\n",
       "      <th>1675_Brug_Cler</th>\n",
       "      <td>199.0</td>\n",
       "      <td>202.41</td>\n",
       "      <td>138.18</td>\n",
       "      <td>52.0</td>\n",
       "      <td>106.00</td>\n",
       "      <td>165.0</td>\n",
       "      <td>244.50</td>\n",
       "      <td>932.0</td>\n",
       "    </tr>\n",
       "    <tr>\n",
       "      <th>1721_Antw_Anon</th>\n",
       "      <td>185.0</td>\n",
       "      <td>196.06</td>\n",
       "      <td>186.89</td>\n",
       "      <td>50.0</td>\n",
       "      <td>86.00</td>\n",
       "      <td>131.0</td>\n",
       "      <td>213.00</td>\n",
       "      <td>1112.0</td>\n",
       "    </tr>\n",
       "    <tr>\n",
       "      <th>1643_Antw_Anon</th>\n",
       "      <td>468.0</td>\n",
       "      <td>169.55</td>\n",
       "      <td>172.80</td>\n",
       "      <td>51.0</td>\n",
       "      <td>92.75</td>\n",
       "      <td>124.0</td>\n",
       "      <td>188.25</td>\n",
       "      <td>2355.0</td>\n",
       "    </tr>\n",
       "    <tr>\n",
       "      <th>1646_Gron_Gijs</th>\n",
       "      <td>179.0</td>\n",
       "      <td>89.58</td>\n",
       "      <td>37.20</td>\n",
       "      <td>50.0</td>\n",
       "      <td>63.50</td>\n",
       "      <td>77.0</td>\n",
       "      <td>108.50</td>\n",
       "      <td>269.0</td>\n",
       "    </tr>\n",
       "  </tbody>\n",
       "</table>\n",
       "<p>73 rows × 8 columns</p>\n",
       "</div>"
      ],
      "text/plain": [
       "                count     mean      std   min      25%     50%      75%  \\\n",
       "call_nr                                                                   \n",
       "1577_Utre_Anon   16.0  4567.75  5440.29  79.0   154.00  3055.5  6457.75   \n",
       "1568_Gent_Vaer  545.0  3640.89  4964.05  96.0  1031.00  2190.0  4643.00   \n",
       "1567_Amst_Reae   31.0  2332.32  2148.64  69.0   971.50  1526.0  2798.50   \n",
       "1604_Bosc_Anon   67.0  2162.13  3104.11  52.0   149.00  1145.0  2684.00   \n",
       "1576_Zier_Clae   19.0  1607.63  1312.52  92.0   894.50  1090.0  2122.00   \n",
       "...               ...      ...      ...   ...      ...     ...      ...   \n",
       "1716_Jisp_Anon  295.0   223.13   242.93  50.0    96.50   155.0   274.00   \n",
       "1675_Brug_Cler  199.0   202.41   138.18  52.0   106.00   165.0   244.50   \n",
       "1721_Antw_Anon  185.0   196.06   186.89  50.0    86.00   131.0   213.00   \n",
       "1643_Antw_Anon  468.0   169.55   172.80  51.0    92.75   124.0   188.25   \n",
       "1646_Gron_Gijs  179.0    89.58    37.20  50.0    63.50    77.0   108.50   \n",
       "\n",
       "                    max  \n",
       "call_nr                  \n",
       "1577_Utre_Anon  17732.0  \n",
       "1568_Gent_Vaer  63781.0  \n",
       "1567_Amst_Reae   8611.0  \n",
       "1604_Bosc_Anon  15996.0  \n",
       "1576_Zier_Clae   5853.0  \n",
       "...                 ...  \n",
       "1716_Jisp_Anon   2484.0  \n",
       "1675_Brug_Cler    932.0  \n",
       "1721_Antw_Anon   1112.0  \n",
       "1643_Antw_Anon   2355.0  \n",
       "1646_Gron_Gijs    269.0  \n",
       "\n",
       "[73 rows x 8 columns]"
      ]
     },
     "execution_count": 45,
     "metadata": {},
     "output_type": "execute_result"
    }
   ],
   "source": [
    "event_len_desc = (df_events\n",
    "    .groupby('call_nr')\n",
    "    ['doc_len'].describe()\n",
    "    .sort_values('mean', ascending=False)\n",
    "    .round(2)\n",
    ")\n",
    "\n",
    "event_len_desc"
   ]
  },
  {
   "cell_type": "markdown",
   "metadata": {},
   "source": [
    "## n events per chronicle"
   ]
  },
  {
   "cell_type": "code",
   "execution_count": 50,
   "metadata": {},
   "outputs": [
    {
     "data": {
      "text/plain": [
       "<AxesSubplot:xlabel='call_nr', ylabel='count'>"
      ]
     },
     "execution_count": 50,
     "metadata": {},
     "output_type": "execute_result"
    },
    {
     "data": {
      "image/png": "[encoded data removed]",
      "text/plain": [
       "<Figure size 432x288 with 1 Axes>"
      ]
     },
     "metadata": {
      "needs_background": "light"
     },
     "output_type": "display_data"
    }
   ],
   "source": [
    "sns.barplot(\n",
    "    x=event_len_desc.reset_index()['call_nr'],\n",
    "    y=event_len_desc.reset_index()['count']\n",
    ")"
   ]
  },
  {
   "cell_type": "code",
   "execution_count": 54,
   "metadata": {},
   "outputs": [
    {
     "data": {
      "text/html": [
       "<div>\n",
       "<style scoped>\n",
       "    .dataframe tbody tr th:only-of-type {\n",
       "        vertical-align: middle;\n",
       "    }\n",
       "\n",
       "    .dataframe tbody tr th {\n",
       "        vertical-align: top;\n",
       "    }\n",
       "\n",
       "    .dataframe thead th {\n",
       "        text-align: right;\n",
       "    }\n",
       "</style>\n",
       "<table border=\"1\" class=\"dataframe\">\n",
       "  <thead>\n",
       "    <tr style=\"text-align: right;\">\n",
       "      <th></th>\n",
       "      <th>call_nr</th>\n",
       "      <th>count</th>\n",
       "    </tr>\n",
       "  </thead>\n",
       "  <tbody>\n",
       "    <tr>\n",
       "      <th>66</th>\n",
       "      <td>1802_Venl_Post</td>\n",
       "      <td>1171.0</td>\n",
       "    </tr>\n",
       "    <tr>\n",
       "      <th>12</th>\n",
       "      <td>1574_Antw_Haec</td>\n",
       "      <td>1004.0</td>\n",
       "    </tr>\n",
       "    <tr>\n",
       "      <th>31</th>\n",
       "      <td>1668_Gent_Bill_12</td>\n",
       "      <td>917.0</td>\n",
       "    </tr>\n",
       "    <tr>\n",
       "      <th>51</th>\n",
       "      <td>1581_Haar_Verw</td>\n",
       "      <td>809.0</td>\n",
       "    </tr>\n",
       "    <tr>\n",
       "      <th>47</th>\n",
       "      <td>1575_Antw_Ulle</td>\n",
       "      <td>806.0</td>\n",
       "    </tr>\n",
       "    <tr>\n",
       "      <th>...</th>\n",
       "      <td>...</td>\n",
       "      <td>...</td>\n",
       "    </tr>\n",
       "    <tr>\n",
       "      <th>61</th>\n",
       "      <td>1666_Gent_Bill_01B</td>\n",
       "      <td>31.0</td>\n",
       "    </tr>\n",
       "    <tr>\n",
       "      <th>2</th>\n",
       "      <td>1567_Amst_Reae</td>\n",
       "      <td>31.0</td>\n",
       "    </tr>\n",
       "    <tr>\n",
       "      <th>27</th>\n",
       "      <td>1582_Stee_Steg</td>\n",
       "      <td>20.0</td>\n",
       "    </tr>\n",
       "    <tr>\n",
       "      <th>4</th>\n",
       "      <td>1576_Zier_Clae</td>\n",
       "      <td>19.0</td>\n",
       "    </tr>\n",
       "    <tr>\n",
       "      <th>0</th>\n",
       "      <td>1577_Utre_Anon</td>\n",
       "      <td>16.0</td>\n",
       "    </tr>\n",
       "  </tbody>\n",
       "</table>\n",
       "<p>73 rows × 2 columns</p>\n",
       "</div>"
      ],
      "text/plain": [
       "               call_nr   count\n",
       "66      1802_Venl_Post  1171.0\n",
       "12      1574_Antw_Haec  1004.0\n",
       "31   1668_Gent_Bill_12   917.0\n",
       "51      1581_Haar_Verw   809.0\n",
       "47      1575_Antw_Ulle   806.0\n",
       "..                 ...     ...\n",
       "61  1666_Gent_Bill_01B    31.0\n",
       "2       1567_Amst_Reae    31.0\n",
       "27      1582_Stee_Steg    20.0\n",
       "4       1576_Zier_Clae    19.0\n",
       "0       1577_Utre_Anon    16.0\n",
       "\n",
       "[73 rows x 2 columns]"
      ]
     },
     "execution_count": 54,
     "metadata": {},
     "output_type": "execute_result"
    }
   ],
   "source": [
    "(event_len_desc\n",
    "    .reset_index()\n",
    "    .sort_values('count', ascending=False)\n",
    "    [['call_nr', 'count']]\n",
    ")"
   ]
  },
  {
   "cell_type": "markdown",
   "metadata": {},
   "source": [
    "# dates\n",
    "## events per day (replication of all_daily_date_tags)"
   ]
  },
  {
   "cell_type": "code",
   "execution_count": 25,
   "metadata": {},
   "outputs": [],
   "source": [
    "# summarize date occurances\n",
    "days = (df_events\n",
    "    .groupby('clean_date')\n",
    "    .size()\n",
    "    .to_frame(name='count')\n",
    "    .reset_index()\n",
    ")\n",
    "# tag unique\n",
    "days['unique'] = [False if n > 1 else True for n in days['count'].tolist()]\n",
    "\n",
    "# extract year\n",
    "days['year'] = [int(re.match(r'\\d{4}', tag).group(0)) for tag in days['clean_date'].tolist()]\n",
    "# get rid of ridiculous dates \n",
    "days = days.query('year >= 1400 & year < 1800')"
   ]
  },
  {
   "cell_type": "code",
   "execution_count": 28,
   "metadata": {},
   "outputs": [
    {
     "data": {
      "text/html": [
       "<div>\n",
       "<style scoped>\n",
       "    .dataframe tbody tr th:only-of-type {\n",
       "        vertical-align: middle;\n",
       "    }\n",
       "\n",
       "    .dataframe tbody tr th {\n",
       "        vertical-align: top;\n",
       "    }\n",
       "\n",
       "    .dataframe thead th {\n",
       "        text-align: right;\n",
       "    }\n",
       "</style>\n",
       "<table border=\"1\" class=\"dataframe\">\n",
       "  <thead>\n",
       "    <tr style=\"text-align: right;\">\n",
       "      <th></th>\n",
       "      <th>clean_date</th>\n",
       "      <th>count</th>\n",
       "      <th>unique</th>\n",
       "      <th>year</th>\n",
       "    </tr>\n",
       "  </thead>\n",
       "  <tbody>\n",
       "    <tr>\n",
       "      <th>11536</th>\n",
       "      <td>1773-07-21</td>\n",
       "      <td>67</td>\n",
       "      <td>False</td>\n",
       "      <td>1773</td>\n",
       "    </tr>\n",
       "    <tr>\n",
       "      <th>11681</th>\n",
       "      <td>1776-09-14</td>\n",
       "      <td>63</td>\n",
       "      <td>False</td>\n",
       "      <td>1776</td>\n",
       "    </tr>\n",
       "    <tr>\n",
       "      <th>11624</th>\n",
       "      <td>1775-11-14</td>\n",
       "      <td>50</td>\n",
       "      <td>False</td>\n",
       "      <td>1775</td>\n",
       "    </tr>\n",
       "    <tr>\n",
       "      <th>12686</th>\n",
       "      <td>1788-05-27</td>\n",
       "      <td>42</td>\n",
       "      <td>False</td>\n",
       "      <td>1788</td>\n",
       "    </tr>\n",
       "    <tr>\n",
       "      <th>11158</th>\n",
       "      <td>1747-05-03</td>\n",
       "      <td>24</td>\n",
       "      <td>False</td>\n",
       "      <td>1747</td>\n",
       "    </tr>\n",
       "    <tr>\n",
       "      <th>1443</th>\n",
       "      <td>1566-08-24</td>\n",
       "      <td>17</td>\n",
       "      <td>False</td>\n",
       "      <td>1566</td>\n",
       "    </tr>\n",
       "    <tr>\n",
       "      <th>10821</th>\n",
       "      <td>1717-12-25</td>\n",
       "      <td>15</td>\n",
       "      <td>False</td>\n",
       "      <td>1717</td>\n",
       "    </tr>\n",
       "    <tr>\n",
       "      <th>12558</th>\n",
       "      <td>1787-11-02</td>\n",
       "      <td>15</td>\n",
       "      <td>False</td>\n",
       "      <td>1787</td>\n",
       "    </tr>\n",
       "    <tr>\n",
       "      <th>11625</th>\n",
       "      <td>1775-11-15</td>\n",
       "      <td>14</td>\n",
       "      <td>False</td>\n",
       "      <td>1775</td>\n",
       "    </tr>\n",
       "    <tr>\n",
       "      <th>1625</th>\n",
       "      <td>1567-03-14</td>\n",
       "      <td>14</td>\n",
       "      <td>False</td>\n",
       "      <td>1567</td>\n",
       "    </tr>\n",
       "    <tr>\n",
       "      <th>1441</th>\n",
       "      <td>1566-08-22</td>\n",
       "      <td>13</td>\n",
       "      <td>False</td>\n",
       "      <td>1566</td>\n",
       "    </tr>\n",
       "    <tr>\n",
       "      <th>11579</th>\n",
       "      <td>1774-11-13</td>\n",
       "      <td>13</td>\n",
       "      <td>False</td>\n",
       "      <td>1774</td>\n",
       "    </tr>\n",
       "    <tr>\n",
       "      <th>1436</th>\n",
       "      <td>1566-08-15</td>\n",
       "      <td>13</td>\n",
       "      <td>False</td>\n",
       "      <td>1566</td>\n",
       "    </tr>\n",
       "    <tr>\n",
       "      <th>12634</th>\n",
       "      <td>1788-02-15</td>\n",
       "      <td>13</td>\n",
       "      <td>False</td>\n",
       "      <td>1788</td>\n",
       "    </tr>\n",
       "    <tr>\n",
       "      <th>12477</th>\n",
       "      <td>1787-08-01</td>\n",
       "      <td>12</td>\n",
       "      <td>False</td>\n",
       "      <td>1787</td>\n",
       "    </tr>\n",
       "    <tr>\n",
       "      <th>12443</th>\n",
       "      <td>1787-06-22</td>\n",
       "      <td>12</td>\n",
       "      <td>False</td>\n",
       "      <td>1787</td>\n",
       "    </tr>\n",
       "    <tr>\n",
       "      <th>12418</th>\n",
       "      <td>1787-05-23</td>\n",
       "      <td>12</td>\n",
       "      <td>False</td>\n",
       "      <td>1787</td>\n",
       "    </tr>\n",
       "    <tr>\n",
       "      <th>11431</th>\n",
       "      <td>1768-07-04</td>\n",
       "      <td>11</td>\n",
       "      <td>False</td>\n",
       "      <td>1768</td>\n",
       "    </tr>\n",
       "    <tr>\n",
       "      <th>2038</th>\n",
       "      <td>1568-06-30</td>\n",
       "      <td>11</td>\n",
       "      <td>False</td>\n",
       "      <td>1568</td>\n",
       "    </tr>\n",
       "    <tr>\n",
       "      <th>11576</th>\n",
       "      <td>1774-11-06</td>\n",
       "      <td>11</td>\n",
       "      <td>False</td>\n",
       "      <td>1774</td>\n",
       "    </tr>\n",
       "  </tbody>\n",
       "</table>\n",
       "</div>"
      ],
      "text/plain": [
       "       clean_date  count  unique  year\n",
       "11536  1773-07-21     67   False  1773\n",
       "11681  1776-09-14     63   False  1776\n",
       "11624  1775-11-14     50   False  1775\n",
       "12686  1788-05-27     42   False  1788\n",
       "11158  1747-05-03     24   False  1747\n",
       "1443   1566-08-24     17   False  1566\n",
       "10821  1717-12-25     15   False  1717\n",
       "12558  1787-11-02     15   False  1787\n",
       "11625  1775-11-15     14   False  1775\n",
       "1625   1567-03-14     14   False  1567\n",
       "1441   1566-08-22     13   False  1566\n",
       "11579  1774-11-13     13   False  1774\n",
       "1436   1566-08-15     13   False  1566\n",
       "12634  1788-02-15     13   False  1788\n",
       "12477  1787-08-01     12   False  1787\n",
       "12443  1787-06-22     12   False  1787\n",
       "12418  1787-05-23     12   False  1787\n",
       "11431  1768-07-04     11   False  1768\n",
       "2038   1568-06-30     11   False  1568\n",
       "11576  1774-11-06     11   False  1774"
      ]
     },
     "execution_count": 28,
     "metadata": {},
     "output_type": "execute_result"
    }
   ],
   "source": [
    "days.sort_values('count', ascending=False).head(20)"
   ]
  },
  {
   "cell_type": "code",
   "execution_count": 29,
   "metadata": {},
   "outputs": [
    {
     "data": {
      "text/plain": [
       "<AxesSubplot:xlabel='year', ylabel='n_dates'>"
      ]
     },
     "execution_count": 29,
     "metadata": {},
     "output_type": "execute_result"
    },
    {
     "data": {
      "image/png": "[encoded data removed]",
      "text/plain": [
       "<Figure size 432x288 with 1 Axes>"
      ]
     },
     "metadata": {
      "needs_background": "light"
     },
     "output_type": "display_data"
    }
   ],
   "source": [
    "props_unique_yearly = []\n",
    "for year_tag, year_data in days.groupby('year'):\n",
    "    n_records = len(year_data)\n",
    "    proportion_unique = sum(year_data['unique']) / n_records\n",
    "    props_unique_yearly.append({\n",
    "        'year': year_tag,\n",
    "        'n_dates': n_records,\n",
    "        'proportion_unique': proportion_unique, \n",
    "    })\n",
    "\n",
    "props_unique_yearly = pd.DataFrame(props_unique_yearly)\n",
    "\n",
    "# plot\n",
    "sns.barplot(\n",
    "    x=props_unique_yearly['year'],\n",
    "    y=props_unique_yearly['n_dates']\n",
    ")"
   ]
  },
  {
   "cell_type": "markdown",
   "metadata": {},
   "source": [
    "### Concatenating daily tags to decades\n",
    "unique vs non-unique date tag density"
   ]
  },
  {
   "cell_type": "code",
   "execution_count": 31,
   "metadata": {},
   "outputs": [],
   "source": [
    "days['decade'] = [re.match(r'\\d{4}', tag).group(0) for tag in days['clean_date'].tolist()]\n",
    "days['decade'] = [int(year[0:3]) for year in days['decade'].tolist()]\n",
    "\n",
    "props_unique_decade= []\n",
    "for decade_tag, decade_data in days.groupby('decade'):\n",
    "    n_records = len(decade_data)\n",
    "    proportion_unique = sum(decade_data['unique']) / n_records\n",
    "    props_unique_decade.append({\n",
    "        'decade': decade_tag,\n",
    "        'n_dates': n_records,\n",
    "        'proportion_unique': proportion_unique, \n",
    "    })\n",
    "\n",
    "props_unique_decade = pd.DataFrame(props_unique_decade)"
   ]
  },
  {
   "cell_type": "code",
   "execution_count": 32,
   "metadata": {},
   "outputs": [
    {
     "data": {
      "text/plain": [
       "Text(0.5, 1.0, 'n daily tags per decade')"
      ]
     },
     "execution_count": 32,
     "metadata": {},
     "output_type": "execute_result"
    },
    {
     "data": {
      "image/png": "[encoded data removed]",
      "text/plain": [
       "<Figure size 720x432 with 1 Axes>"
      ]
     },
     "metadata": {
      "needs_background": "light"
     },
     "output_type": "display_data"
    }
   ],
   "source": [
    "plt.figure(figsize=(10, 6))\n",
    "sns.barplot(\n",
    "    x=props_unique_decade['decade'],\n",
    "    y=props_unique_decade['n_dates'],\n",
    "    color='#A7CECB'\n",
    ")\n",
    "plt.xticks(rotation=90)\n",
    "plt.title('n daily tags per decade')"
   ]
  },
  {
   "cell_type": "code",
   "execution_count": 33,
   "metadata": {},
   "outputs": [
    {
     "data": {
      "text/plain": [
       "Text(0.5, 1.0, 'proportion of unique daily tags per decade (non-unique in dark)')"
      ]
     },
     "execution_count": 33,
     "metadata": {},
     "output_type": "execute_result"
    },
    {
     "data": {
      "image/png": "[encoded data removed]",
      "text/plain": [
       "<Figure size 720x432 with 1 Axes>"
      ]
     },
     "metadata": {
      "needs_background": "light"
     },
     "output_type": "display_data"
    }
   ],
   "source": [
    "plt.figure(figsize=(10, 6))\n",
    "props_unique_decade['top'] = 1\n",
    "sns.barplot(\n",
    "    x=props_unique_decade['decade'],\n",
    "    y=props_unique_decade['top'],\n",
    "    color='#AE5377'\n",
    ")\n",
    "sns.barplot(\n",
    "    x=props_unique_decade['decade'],\n",
    "    y=props_unique_decade['proportion_unique'],\n",
    "    color='#F2D1C9'\n",
    ")\n",
    "plt.xticks(rotation=90)\n",
    "plt.title('proportion of unique daily tags per decade (non-unique in dark)')"
   ]
  },
  {
   "cell_type": "code",
   "execution_count": 34,
   "metadata": {},
   "outputs": [
    {
     "data": {
      "text/plain": [
       "Text(0.5, 1.0, 'n daily tags + proportion of unique (non-unique in dark)')"
      ]
     },
     "execution_count": 34,
     "metadata": {},
     "output_type": "execute_result"
    },
    {
     "data": {
      "image/png": "[encoded data removed]",
      "text/plain": [
       "<Figure size 720x432 with 1 Axes>"
      ]
     },
     "metadata": {
      "needs_background": "light"
     },
     "output_type": "display_data"
    }
   ],
   "source": [
    "plt.figure(figsize=(10, 6))\n",
    "props_unique_decade['top'] = 1\n",
    "sns.barplot(\n",
    "    x=props_unique_decade['decade'],\n",
    "    y=props_unique_decade['n_dates'],\n",
    "    color='#AE5377'\n",
    ")\n",
    "sns.barplot(\n",
    "    x=props_unique_decade['decade'],\n",
    "    y=props_unique_decade['n_dates'] * props_unique_decade['proportion_unique'],\n",
    "    color='#F2D1C9'\n",
    ")\n",
    "plt.xticks(rotation=90)\n",
    "plt.title('n daily tags + proportion of unique (non-unique in dark)')"
   ]
  },
  {
   "cell_type": "code",
   "execution_count": null,
   "metadata": {},
   "outputs": [],
   "source": []
  }
 ],
 "metadata": {
  "interpreter": {
   "hash": "ec7ac826d2dfa9bdc8ae2c6e9e64d425b86d081169e124421e52232c031c5220"
  },
  "kernelspec": {
   "display_name": "Python 3.9.7 64-bit ('chron_env')",
   "language": "python",
   "name": "python3"
  },
  "language_info": {
   "codemirror_mode": {
    "name": "ipython",
    "version": 3
   },
   "file_extension": ".py",
   "mimetype": "text/x-python",
   "name": "python",
   "nbconvert_exporter": "python",
   "pygments_lexer": "ipython3",
   "version": "3.9.7"
  },
  "orig_nbformat": 4
 },
 "nbformat": 4,
 "nbformat_minor": 2
}
